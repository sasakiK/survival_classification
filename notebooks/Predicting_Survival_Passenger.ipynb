{
 "cells": [
  {
   "cell_type": "markdown",
   "metadata": {},
   "source": [
    "# Predicting Survival Passenger\n",
    "\n",
    "[ref](https://qiita.com/suzumi/items/8ce18bc90c942663d1e6)"
   ]
  },
  {
   "cell_type": "code",
   "execution_count": 1,
   "metadata": {},
   "outputs": [],
   "source": [
    "import os\n",
    "import pandas as pd\n",
    "import matplotlib.pyplot as plt\n",
    "%matplotlib inline\n",
    "\n",
    "from sklearn.ensemble import RandomForestClassifier\n",
    "\n",
    "import csv"
   ]
  },
  {
   "cell_type": "code",
   "execution_count": 2,
   "metadata": {},
   "outputs": [
    {
     "data": {
      "text/plain": [
       "'/home/jovyan/BigDataAnalytics/bda_py_folder/class3/titanic_bda/survival_classification/notebooks'"
      ]
     },
     "execution_count": 2,
     "metadata": {},
     "output_type": "execute_result"
    }
   ],
   "source": [
    "os.getcwd()"
   ]
  },
  {
   "cell_type": "code",
   "execution_count": 5,
   "metadata": {},
   "outputs": [
    {
     "data": {
      "text/plain": [
       "'/home/jovyan/BigDataAnalytics/bda_py_folder/class3/titanic_bda/survival_classification'"
      ]
     },
     "execution_count": 5,
     "metadata": {},
     "output_type": "execute_result"
    }
   ],
   "source": [
    "os.chdir(\"/home/jovyan/BigDataAnalytics/bda_py_folder/class3/titanic_bda/survival_classification/\")\n",
    "os.getcwd()"
   ]
  },
  {
   "cell_type": "code",
   "execution_count": 7,
   "metadata": {},
   "outputs": [
    {
     "data": {
      "text/plain": [
       "['.DS_Store',\n",
       " 'LICENSE',\n",
       " 'requirements.txt',\n",
       " 'references',\n",
       " 'Makefile',\n",
       " 'models',\n",
       " 'docs',\n",
       " 'README.md',\n",
       " 'setup.py',\n",
       " '.gitignore',\n",
       " '.env',\n",
       " 'tox.ini',\n",
       " '.git',\n",
       " 'data',\n",
       " 'notebooks',\n",
       " 'test_environment.py',\n",
       " 'reports',\n",
       " 'src']"
      ]
     },
     "execution_count": 7,
     "metadata": {},
     "output_type": "execute_result"
    }
   ],
   "source": [
    "os.listdir()"
   ]
  },
  {
   "cell_type": "markdown",
   "metadata": {},
   "source": [
    "# prepare data"
   ]
  },
  {
   "cell_type": "code",
   "execution_count": 10,
   "metadata": {},
   "outputs": [],
   "source": [
    "df= pd.read_csv(\"data/raw/train.csv\").replace(\"male\",0).replace(\"female\",1)"
   ]
  },
  {
   "cell_type": "markdown",
   "metadata": {},
   "source": [
    "# preprocessing"
   ]
  },
  {
   "cell_type": "markdown",
   "metadata": {},
   "source": [
    " ## missing data"
   ]
  },
  {
   "cell_type": "code",
   "execution_count": 11,
   "metadata": {},
   "outputs": [],
   "source": [
    "df[\"Age\"].fillna(df.Age.median(), inplace=True)"
   ]
  },
  {
   "cell_type": "markdown",
   "metadata": {},
   "source": [
    "## check data"
   ]
  },
  {
   "cell_type": "code",
   "execution_count": 12,
   "metadata": {},
   "outputs": [
    {
     "data": {
      "text/plain": [
       "([array([  80.,   97.,  372.]), array([ 216.,  184.,  491.])],\n",
       " array([ 1.        ,  1.66666667,  2.33333333,  3.        ]),\n",
       " <a list of 2 Lists of Patches objects>)"
      ]
     },
     "execution_count": 12,
     "metadata": {},
     "output_type": "execute_result"
    },
    {
     "data": {
      "image/png": "[encoded data removed]",
      "text/plain": [
       "<matplotlib.figure.Figure at 0x7f7d2e159e48>"
      ]
     },
     "metadata": {},
     "output_type": "display_data"
    }
   ],
   "source": [
    "split_data = []\n",
    "for survived in [0,1]:\n",
    "    split_data.append(df[df.Survived==survived])\n",
    "\n",
    "temp = [i[\"Pclass\"].dropna() for i in split_data]\n",
    "plt.hist(temp, histtype=\"barstacked\", bins=3)"
   ]
  },
  {
   "cell_type": "code",
   "execution_count": 13,
   "metadata": {},
   "outputs": [
    {
     "data": {
      "text/plain": [
       "([array([  13.,   13.,    8.,   63.,   80.,  191.,   47.,   39.,   30.,\n",
       "           23.,   14.,   11.,   10.,    3.,    4.,    0.]),\n",
       "  array([  44.,   20.,   19.,   96.,  122.,  285.,   88.,   67.,   47.,\n",
       "           39.,   24.,   18.,   14.,    3.,    4.,    1.])],\n",
       " array([  0.42   ,   5.39375,  10.3675 ,  15.34125,  20.315  ,  25.28875,\n",
       "         30.2625 ,  35.23625,  40.21   ,  45.18375,  50.1575 ,  55.13125,\n",
       "         60.105  ,  65.07875,  70.0525 ,  75.02625,  80.     ]),\n",
       " <a list of 2 Lists of Patches objects>)"
      ]
     },
     "execution_count": 13,
     "metadata": {},
     "output_type": "execute_result"
    },
    {
     "data": {
      "image/png": "[encoded data removed]",
      "text/plain": [
       "<matplotlib.figure.Figure at 0x7f7d2e1885c0>"
      ]
     },
     "metadata": {},
     "output_type": "display_data"
    }
   ],
   "source": [
    "temp = [i[\"Age\"].dropna() for i in split_data]\n",
    "plt.hist(temp, histtype=\"barstacked\", bins=16)"
   ]
  },
  {
   "cell_type": "markdown",
   "metadata": {},
   "source": [
    "## make variables"
   ]
  },
  {
   "cell_type": "code",
   "execution_count": 14,
   "metadata": {},
   "outputs": [],
   "source": [
    "df[\"FamilySize\"] = df[\"SibSp\"] + df[\"Parch\"] + 1\n",
    "df2 = df.drop([\"Name\", \"SibSp\", \"Parch\", \"Ticket\", \"Fare\", \"Cabin\", \"Embarked\"], axis=1)"
   ]
  },
  {
   "cell_type": "code",
   "execution_count": 15,
   "metadata": {},
   "outputs": [
    {
     "data": {
      "text/plain": [
       "PassengerId      int64\n",
       "Survived         int64\n",
       "Pclass           int64\n",
       "Sex              int64\n",
       "Age            float64\n",
       "FamilySize       int64\n",
       "dtype: object"
      ]
     },
     "execution_count": 15,
     "metadata": {},
     "output_type": "execute_result"
    }
   ],
   "source": [
    "# check types of df\n",
    "df2.dtypes"
   ]
  },
  {
   "cell_type": "code",
   "execution_count": 16,
   "metadata": {},
   "outputs": [],
   "source": [
    "df2.to_csv(\"data/processed/processed_df.csv\")"
   ]
  },
  {
   "cell_type": "markdown",
   "metadata": {},
   "source": [
    "# learning data"
   ]
  },
  {
   "cell_type": "markdown",
   "metadata": {},
   "source": [
    "extract head 800 observations and use them as train dataset.<br>\n",
    "Other 91 observation use as test dataset."
   ]
  },
  {
   "cell_type": "code",
   "execution_count": 47,
   "metadata": {},
   "outputs": [],
   "source": [
    "# train dataset\n",
    "train_data = df2.values\n",
    "xs = train_data[0:800, 2:] # Pclass以降の変数\n",
    "y  = train_data[0:800, 1]  # 正解データ"
   ]
  },
  {
   "cell_type": "code",
   "execution_count": 48,
   "metadata": {},
   "outputs": [
    {
     "data": {
      "text/plain": [
       "891"
      ]
     },
     "execution_count": 48,
     "metadata": {},
     "output_type": "execute_result"
    }
   ],
   "source": [
    "# len(xs)\n",
    "train_data.shape[0]"
   ]
  },
  {
   "cell_type": "code",
   "execution_count": 49,
   "metadata": {},
   "outputs": [],
   "source": [
    "forest = RandomForestClassifier(n_estimators = 100)\n",
    "\n",
    "# 学習\n",
    "forest = forest.fit(xs, y)\n",
    "\n",
    "test_df= pd.read_csv(\"test.csv\").replace(\"male\",0).replace(\"female\",1)\n",
    "# # 欠損値の補完\n",
    "test_df[\"Age\"].fillna(df.Age.median(), inplace=True)\n",
    "test_df[\"FamilySize\"] = df[\"SibSp\"] + df[\"Parch\"] + 1\n",
    "test_df2 = test_df.drop([\"Name\", \"SibSp\", \"Parch\", \"Ticket\", \"Fare\", \"Cabin\", \"Embarked\"], axis=1)"
   ]
  },
  {
   "cell_type": "code",
   "execution_count": 43,
   "metadata": {},
   "outputs": [
    {
     "data": {
      "text/plain": [
       "Index(['PassengerId', 'Pclass', 'Sex', 'Age', 'FamilySize'], dtype='object')"
      ]
     },
     "execution_count": 43,
     "metadata": {},
     "output_type": "execute_result"
    }
   ],
   "source": [
    "test_df2.columns"
   ]
  },
  {
   "cell_type": "code",
   "execution_count": 46,
   "metadata": {},
   "outputs": [
    {
     "data": {
      "text/plain": [
       "<bound method NDFrame.head of      PassengerId  Pclass  Sex   Age  FamilySize\n",
       "0            892       3    0  34.5           2\n",
       "1            893       3    1  47.0           2\n",
       "2            894       2    0  62.0           1\n",
       "3            895       3    0  27.0           2\n",
       "4            896       3    1  22.0           1\n",
       "5            897       3    0  14.0           1\n",
       "6            898       3    1  30.0           1\n",
       "7            899       2    0  26.0           5\n",
       "8            900       3    1  18.0           3\n",
       "9            901       3    0  21.0           2\n",
       "10           902       3    0  28.0           3\n",
       "11           903       1    0  46.0           1\n",
       "12           904       1    1  23.0           1\n",
       "13           905       2    0  63.0           7\n",
       "14           906       1    1  47.0           1\n",
       "15           907       2    1  24.0           1\n",
       "16           908       2    0  35.0           6\n",
       "17           909       3    0  21.0           1\n",
       "18           910       3    1  27.0           2\n",
       "19           911       3    1  45.0           1\n",
       "20           912       1    0  55.0           1\n",
       "21           913       3    0   9.0           1\n",
       "22           914       1    1  28.0           1\n",
       "23           915       1    0  21.0           1\n",
       "24           916       1    1  48.0           5\n",
       "25           917       3    0  50.0           7\n",
       "26           918       1    1  22.0           1\n",
       "27           919       3    0  22.5           6\n",
       "28           920       1    0  41.0           1\n",
       "29           921       3    0  28.0           1\n",
       "..           ...     ...  ...   ...         ...\n",
       "388         1280       3    0  21.0           1\n",
       "389         1281       3    0   6.0           1\n",
       "390         1282       1    0  23.0           4\n",
       "391         1283       1    1  51.0           1\n",
       "392         1284       3    0  13.0           3\n",
       "393         1285       2    0  47.0           2\n",
       "394         1286       3    0  29.0           3\n",
       "395         1287       1    1  18.0           1\n",
       "396         1288       3    0  24.0           1\n",
       "397         1289       1    1  48.0           1\n",
       "398         1290       3    0  22.0           1\n",
       "399         1291       3    0  31.0           1\n",
       "400         1292       1    1  30.0           1\n",
       "401         1293       2    0  38.0           1\n",
       "402         1294       1    1  22.0           2\n",
       "403         1295       1    0  17.0           2\n",
       "404         1296       1    0  43.0           1\n",
       "405         1297       2    0  20.0           2\n",
       "406         1298       2    0  23.0           1\n",
       "407         1299       1    0  50.0           3\n",
       "408         1300       3    1  28.0           1\n",
       "409         1301       3    1   3.0           5\n",
       "410         1302       3    1  28.0           1\n",
       "411         1303       1    1  37.0           1\n",
       "412         1304       3    1  28.0           2\n",
       "413         1305       3    0  28.0           1\n",
       "414         1306       1    1  39.0           1\n",
       "415         1307       3    0  38.5           1\n",
       "416         1308       3    0  28.0           3\n",
       "417         1309       3    0  28.0           3\n",
       "\n",
       "[418 rows x 5 columns]>"
      ]
     },
     "execution_count": 46,
     "metadata": {},
     "output_type": "execute_result"
    }
   ],
   "source": [
    "test_df2.head"
   ]
  },
  {
   "cell_type": "markdown",
   "metadata": {},
   "source": [
    "## predict data"
   ]
  },
  {
   "cell_type": "code",
   "execution_count": 55,
   "metadata": {},
   "outputs": [
    {
     "name": "stdout",
     "output_type": "stream",
     "text": [
      "90 90\n"
     ]
    },
    {
     "data": {
      "text/plain": [
       "[(1, 1),\n",
       " (1, 1),\n",
       " (1, 1),\n",
       " (1, 1),\n",
       " (0, 0),\n",
       " (0, 0),\n",
       " (0, 1),\n",
       " (0, 0),\n",
       " (1, 1),\n",
       " (0, 0),\n",
       " (0, 0),\n",
       " (0, 0),\n",
       " (0, 1),\n",
       " (0, 0),\n",
       " (0, 0),\n",
       " (0, 1),\n",
       " (0, 0),\n",
       " (0, 0),\n",
       " (0, 0),\n",
       " (1, 1),\n",
       " (1, 1),\n",
       " (0, 1),\n",
       " (1, 0),\n",
       " (0, 0),\n",
       " (0, 0),\n",
       " (0, 0),\n",
       " (1, 1),\n",
       " (1, 0),\n",
       " (1, 1),\n",
       " (1, 0),\n",
       " (1, 1),\n",
       " (0, 0),\n",
       " (0, 0),\n",
       " (0, 0),\n",
       " (1, 1),\n",
       " (0, 0),\n",
       " (0, 0),\n",
       " (1, 1),\n",
       " (1, 0),\n",
       " (0, 0),\n",
       " (0, 0),\n",
       " (1, 1),\n",
       " (0, 0),\n",
       " (0, 0),\n",
       " (0, 0),\n",
       " (0, 0),\n",
       " (0, 0),\n",
       " (0, 0),\n",
       " (1, 1),\n",
       " (0, 0),\n",
       " (0, 0),\n",
       " (0, 0),\n",
       " (1, 1),\n",
       " (0, 1),\n",
       " (1, 0),\n",
       " (1, 1),\n",
       " (1, 1),\n",
       " (1, 1),\n",
       " (0, 0),\n",
       " (0, 0),\n",
       " (0, 0),\n",
       " (1, 1),\n",
       " (0, 0),\n",
       " (0, 0),\n",
       " (1, 1),\n",
       " (1, 0),\n",
       " (0, 0),\n",
       " (0, 0),\n",
       " (1, 1),\n",
       " (0, 0),\n",
       " (1, 1),\n",
       " (0, 1),\n",
       " (0, 0),\n",
       " (1, 1),\n",
       " (1, 1),\n",
       " (0, 0),\n",
       " (0, 0),\n",
       " (0, 0),\n",
       " (1, 1),\n",
       " (1, 1),\n",
       " (0, 0),\n",
       " (0, 1),\n",
       " (0, 0),\n",
       " (0, 0),\n",
       " (0, 0),\n",
       " (0, 0),\n",
       " (1, 1),\n",
       " (0, 1),\n",
       " (1, 1),\n",
       " (0, 1)]"
      ]
     },
     "execution_count": 55,
     "metadata": {},
     "output_type": "execute_result"
    }
   ],
   "source": [
    "# test dataset\n",
    "xs_test = train_data[801:train_data.shape[0], 2:] # Pclass以降の変数\n",
    "y  = train_data[801:train_data.shape[0], 1]  # 正解データ\n",
    "\n",
    "output = forest.predict(xs_test)\n",
    "\n",
    "print(len(y), len(output))\n",
    "zip_data = zip(y.astype(int), output.astype(int))\n",
    "predict_data = list(zip_data)\n",
    "predict_data"
   ]
  },
  {
   "cell_type": "code",
   "execution_count": 57,
   "metadata": {},
   "outputs": [
    {
     "data": {
      "text/plain": [
       "array([[   1.,    0.,    3.,    0.,   22.,    2.],\n",
       "       [   2.,    1.,    1.,    1.,   38.,    2.],\n",
       "       [   3.,    1.,    3.,    1.,   26.,    1.],\n",
       "       ..., \n",
       "       [ 889.,    0.,    3.,    1.,   28.,    4.],\n",
       "       [ 890.,    1.,    1.,    0.,   26.,    1.],\n",
       "       [ 891.,    0.,    3.,    0.,   32.,    1.]])"
      ]
     },
     "execution_count": 57,
     "metadata": {},
     "output_type": "execute_result"
    }
   ],
   "source": [
    "train_data"
   ]
  },
  {
   "cell_type": "markdown",
   "metadata": {},
   "source": [
    "# save output file as csv"
   ]
  },
  {
   "cell_type": "code",
   "execution_count": 45,
   "metadata": {},
   "outputs": [],
   "source": [
    "with open(\"class3/predict_result_data.csv\", \"w\") as f:\n",
    "    writer = csv.writer(f, lineterminator='\\n')\n",
    "    writer.writerow([\"PassengerId\", \"Survived\"])\n",
    "    for pid, survived in zip(test_data[:,0].astype(int), output.astype(int)):\n",
    "        writer.writerow([pid, survived])"
   ]
  },
  {
   "cell_type": "code",
   "execution_count": null,
   "metadata": {},
   "outputs": [],
   "source": []
  }
 ],
 "metadata": {
  "kernelspec": {
   "display_name": "Python 3",
   "language": "python",
   "name": "python3"
  },
  "language_info": {
   "codemirror_mode": {
    "name": "ipython",
    "version": 3
   },
   "file_extension": ".py",
   "mimetype": "text/x-python",
   "name": "python",
   "nbconvert_exporter": "python",
   "pygments_lexer": "ipython3",
   "version": "3.6.2"
  }
 },
 "nbformat": 4,
 "nbformat_minor": 2
}
